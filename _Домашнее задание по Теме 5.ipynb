{
 "cells": [
  {
   "cell_type": "markdown",
   "id": "1d6a2926",
   "metadata": {},
   "source": [
    "### Задание 1"
   ]
  },
  {
   "cell_type": "code",
   "execution_count": 1,
   "id": "0b5fa344",
   "metadata": {},
   "outputs": [],
   "source": [
    "import json"
   ]
  },
  {
   "cell_type": "code",
   "execution_count": 2,
   "id": "edde0f9f",
   "metadata": {},
   "outputs": [],
   "source": [
    "#import os"
   ]
  },
  {
   "cell_type": "code",
   "execution_count": 3,
   "id": "4920cad4",
   "metadata": {},
   "outputs": [],
   "source": [
    "#print(\"Текущая деректория:\", os.getcwd())"
   ]
  },
  {
   "cell_type": "code",
   "execution_count": 4,
   "id": "a045fff1",
   "metadata": {},
   "outputs": [],
   "source": [
    "purchases = {}\n",
    "with open('purchase_log.txt', encoding='utf-8') as file:\n",
    "    for line in file:\n",
    "        line = line.strip() \n",
    "        dict_ = json.loads(line)\n",
    "        purchases.update({dict_.values()})\n",
    "\n",
    "\n",
    "\n"
   ]
  },
  {
   "cell_type": "code",
   "execution_count": 5,
   "id": "89f96d6f",
   "metadata": {},
   "outputs": [
    {
     "name": "stdout",
     "output_type": "stream",
     "text": [
      "purchases:\n",
      "user_id category\n",
      "Продукты 1840e0b9d4\n",
      "4e4f90fcfb Электроника\n",
      "afea8d72fc Электроника\n",
      "373a6055fe Бытовая техника\n",
      "9b2ab046f3 Электроника\n"
     ]
    }
   ],
   "source": [
    "i = 0\n",
    "print('purchases:')\n",
    "for a, b in purchases.items():\n",
    "    print(a, b)\n",
    "    i += 1\n",
    "    if i > 5:\n",
    "        break"
   ]
  },
  {
   "cell_type": "markdown",
   "id": "b5353771",
   "metadata": {},
   "source": [
    "### Задание 2"
   ]
  },
  {
   "cell_type": "code",
   "execution_count": 8,
   "id": "e07d9817",
   "metadata": {},
   "outputs": [],
   "source": [
    "dict_funnel = {}\n",
    "\n",
    "with open('visit_log.csv', encoding='utf-8') as f_l:\n",
    "    with open('funnel.csv', 'w', encoding='utf-8') as f_o:\n",
    "        purchase = open('purchase_log.txt', encoding='utf-8').readlines()\n",
    "        for element in purchase:\n",
    "            dict_ = json.loads(element)\n",
    "            dict_funnel.update({dict_.values()})\n",
    "        for line in f_l:\n",
    "            line = line.strip().split(',')\n",
    "            if line[0] in dict_funnel.keys():\n",
    "                f_o.write(line[0] + ',' + line[1] + ',' + str(dict_funnel.get(line[0])) + '\\n')"
   ]
  },
  {
   "cell_type": "code",
   "execution_count": 9,
   "id": "498100e2",
   "metadata": {},
   "outputs": [
    {
     "name": "stdout",
     "output_type": "stream",
     "text": [
      "user_id,source,category\n",
      "\n",
      "4e4f90fcfb,context,Электроника\n",
      "\n",
      "afea8d72fc,other,Электроника\n",
      "\n",
      "2824221f38,email,Продукты\n",
      "\n",
      "373a6055fe,other,Бытовая техника\n",
      "\n",
      "9b2ab046f3,other,Электроника\n",
      "\n"
     ]
    }
   ],
   "source": [
    "m = open('funnel.csv','r', encoding='utf-8')\n",
    "a = 0\n",
    "for i in m:\n",
    "    print(i)\n",
    "    a += 1\n",
    "    if a > 5:\n",
    "        break"
   ]
  },
  {
   "cell_type": "code",
   "execution_count": null,
   "id": "c5588928",
   "metadata": {},
   "outputs": [],
   "source": []
  }
 ],
 "metadata": {
  "kernelspec": {
   "display_name": "Python 3 (ipykernel)",
   "language": "python",
   "name": "python3"
  },
  "language_info": {
   "codemirror_mode": {
    "name": "ipython",
    "version": 3
   },
   "file_extension": ".py",
   "mimetype": "text/x-python",
   "name": "python",
   "nbconvert_exporter": "python",
   "pygments_lexer": "ipython3",
   "version": "3.9.12"
  }
 },
 "nbformat": 4,
 "nbformat_minor": 5
}
